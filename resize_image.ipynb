{
  "cells": [
    {
      "cell_type": "code",
      "execution_count": 1,
      "metadata": {
        "id": "H2Fh8-RC6vrj"
      },
      "outputs": [],
      "source": [
        "import os\n",
        "from PIL import Image\n",
        "\n",
        "input_folder = r'dataset\\training_data_mendeley'\n",
        "output_folder = r'dataset\\resized_data_mendeley'\n",
        "\n",
        "new_size = (640, 640)"
      ]
    },
    {
      "cell_type": "code",
      "execution_count": 2,
      "metadata": {},
      "outputs": [],
      "source": [
        "def resize_images_recursive(directory):\n",
        "    for root, dirs, files in os.walk(directory):\n",
        "        # Create corresponding subdirectories in the output folder\n",
        "        relative_path = os.path.relpath(root, directory)\n",
        "        output_subfolder = os.path.join(output_folder, relative_path)\n",
        "        os.makedirs(output_subfolder, exist_ok=True)\n",
        "\n",
        "        for filename in files:\n",
        "            filepath = os.path.join(root, filename)\n",
        "            output_filepath = os.path.join(output_subfolder, filename)\n",
        "\n",
        "            if os.path.exists(output_filepath):\n",
        "                print(f\"Skipping {filepath} because {output_filepath} already exists.\")\n",
        "                continue\n",
        "\n",
        "            try:\n",
        "                # Open the image\n",
        "                img = Image.open(filepath)\n",
        "\n",
        "                # Ensure the image is in RGB mode\n",
        "                if img.mode != 'RGB':\n",
        "                    img = img.convert('RGB')\n",
        "\n",
        "                # Resize the image\n",
        "                img_resized = img.resize(new_size)\n",
        "\n",
        "                # Save the resized image\n",
        "                img_resized.save(output_filepath)\n",
        "\n",
        "            except Exception as e:\n",
        "                print(f\"Error processing {filepath}: {e}\")\n",
        "\n",
        "# Example usage\n",
        "resize_images_recursive(input_folder)"
      ]
    }
  ],
  "metadata": {
    "colab": {
      "provenance": []
    },
    "kernelspec": {
      "display_name": "v_smoking_detection",
      "language": "python",
      "name": "python3"
    },
    "language_info": {
      "codemirror_mode": {
        "name": "ipython",
        "version": 3
      },
      "file_extension": ".py",
      "mimetype": "text/x-python",
      "name": "python",
      "nbconvert_exporter": "python",
      "pygments_lexer": "ipython3",
      "version": "3.11.9"
    }
  },
  "nbformat": 4,
  "nbformat_minor": 0
}
