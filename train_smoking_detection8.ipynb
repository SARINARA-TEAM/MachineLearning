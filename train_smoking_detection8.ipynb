{
  "cells": [
    {
      "cell_type": "code",
      "execution_count": null,
      "metadata": {
        "id": "kWtIeFjc-isG"
      },
      "outputs": [],
      "source": [
        "import tensorflow as tf\n",
        "from tensorflow.keras.callbacks import EarlyStopping\n",
        "from tensorflow.keras.models import Sequential, Model\n",
        "from tensorflow.keras.layers import Input, Conv2D, MaxPooling2D, Dropout, Flatten, Dense\n",
        "from tensorflow.keras.preprocessing import image\n",
        "import matplotlib.pyplot as plt\n",
        "import matplotlib.image as mpimg\n",
        "%matplotlib inline\n",
        "from tensorflow.keras.preprocessing import image\n",
        "from tensorflow.keras.models import load_model\n",
        "\n",
        "import os\n",
        "import pandas as pd\n",
        "import numpy as np\n",
        "from sklearn.model_selection import train_test_split\n",
        "from tensorflow.keras.preprocessing.image import ImageDataGenerator\n",
        "from tensorflow.keras.applications import MobileNetV2\n",
        "from tensorflow.keras import layers, models\n",
        "from tensorflow.keras.optimizers import Adam"
      ]
    },
    {
      "cell_type": "code",
      "execution_count": null,
      "metadata": {},
      "outputs": [],
      "source": [
        "print(os.getcwd())"
      ]
    },
    {
      "cell_type": "code",
      "execution_count": null,
      "metadata": {
        "id": "WjcReAZiyuXO"
      },
      "outputs": [],
      "source": [
        "# base_dir = r'dataset\\smoking_detection' # dataset kaggle\n",
        "base_dir = r'dataset\\resized_data_mendeley' # dataset mendeley"
      ]
    },
    {
      "cell_type": "code",
      "execution_count": null,
      "metadata": {
        "colab": {
          "base_uri": "https://localhost:8080/"
        },
        "id": "E5HLadPW9sWd",
        "outputId": "a017047d-4e75-476a-ed9a-4b6fcdec02c6"
      },
      "outputs": [],
      "source": [
        "os.listdir(base_dir)"
      ]
    },
    {
      "cell_type": "code",
      "execution_count": null,
      "metadata": {},
      "outputs": [],
      "source": [
        "# Ambil semua path gambar dan label\n",
        "filenames = []\n",
        "labels = []\n",
        "\n",
        "for folder in os.listdir(base_dir):\n",
        "    folder_path = os.path.join(base_dir, folder)\n",
        "    if os.path.isdir(folder_path):\n",
        "        for file in os.listdir(folder_path):\n",
        "            filenames.append(os.path.join(folder, file))\n",
        "            labels.append(folder)\n",
        "\n",
        "# Buat DataFrame\n",
        "df = pd.DataFrame({\n",
        "    'filename': filenames,\n",
        "    'label': labels\n",
        "})\n",
        "\n",
        "# Shuffle DataFrame sebelum split\n",
        "df = df.sample(frac=1, random_state=42).reset_index(drop=True)\n",
        "\n",
        "# Split dataset: 70% train, 15% validation, 15% test\n",
        "train_df, temp_df = train_test_split(df, test_size=0.3, random_state=42, stratify=df['label'])\n",
        "val_df, test_df = train_test_split(temp_df, test_size=0.5, random_state=42, stratify=temp_df['label'])\n",
        "\n",
        "print(\"Jumlah data train:\", len(train_df))\n",
        "print(\"Jumlah data validation:\", len(val_df))\n",
        "print(\"Jumlah data test:\", len(test_df))"
      ]
    },
    {
      "cell_type": "code",
      "execution_count": null,
      "metadata": {
        "colab": {
          "base_uri": "https://localhost:8080/"
        },
        "id": "Qv6PAOpW2ijr",
        "outputId": "929aeb38-926b-4cf7-8578-556a225971cd"
      },
      "outputs": [],
      "source": [
        "# ImageDataGenerator & Flow from DataFrame\n",
        "IMG_SIZE = 224\n",
        "BATCH_SIZE = 16\n",
        "\n",
        "# Train generator with augmentation\n",
        "train_datagen = ImageDataGenerator(\n",
        "    rescale=1./255,\n",
        "    rotation_range=30,\n",
        "    width_shift_range=0.2,\n",
        "    height_shift_range=0.2,\n",
        "    shear_range=0.2,\n",
        "    zoom_range=0.2,\n",
        "    horizontal_flip=True,\n",
        "    fill_mode='nearest'\n",
        ")\n",
        "\n",
        "train_generator = train_datagen.flow_from_dataframe(\n",
        "    dataframe=train_df,\n",
        "    directory=base_dir,\n",
        "    x_col='filename',\n",
        "    y_col='label',\n",
        "    target_size=(IMG_SIZE, IMG_SIZE),\n",
        "    batch_size=BATCH_SIZE,\n",
        "    class_mode='binary',  # Binary classification\n",
        "    shuffle=True\n",
        ")\n",
        "\n",
        "# Validation generator without augmentation\n",
        "val_datagen = ImageDataGenerator(rescale=1./255)\n",
        "\n",
        "val_generator = val_datagen.flow_from_dataframe(\n",
        "    dataframe=val_df,\n",
        "    directory=base_dir,\n",
        "    x_col='filename',\n",
        "    y_col='label',\n",
        "    target_size=(IMG_SIZE, IMG_SIZE),\n",
        "    batch_size=BATCH_SIZE,\n",
        "    class_mode='binary',\n",
        "    shuffle=False\n",
        ")\n",
        "\n",
        "# Test generator without augmentation\n",
        "test_datagen = ImageDataGenerator(rescale=1./255)\n",
        "\n",
        "test_generator = test_datagen.flow_from_dataframe(\n",
        "    dataframe=test_df,\n",
        "    directory=base_dir,\n",
        "    x_col='filename',\n",
        "    y_col='label',\n",
        "    target_size=(IMG_SIZE, IMG_SIZE),\n",
        "    batch_size=BATCH_SIZE,\n",
        "    class_mode='binary',\n",
        "    shuffle=False\n",
        ")\n"
      ]
    },
    {
      "cell_type": "code",
      "execution_count": null,
      "metadata": {},
      "outputs": [],
      "source": [
        "#  build model using MobileNetV2\n",
        "base_model = MobileNetV2(weights='imagenet', include_top=False, input_shape=(IMG_SIZE, IMG_SIZE, 3))\n",
        "base_model.trainable = False  # Freeze while pre-training\n",
        "\n",
        "inputs = Input(shape=(IMG_SIZE, IMG_SIZE, 3))\n",
        "x = base_model(inputs, training=False)\n",
        "x = layers.GlobalAveragePooling2D()(x)\n",
        "x = layers.Dense(64, activation='relu')(x)\n",
        "x = layers.Dropout(0.5)(x)\n",
        "outputs = layers.Dense(1, activation='sigmoid')(x)\n",
        "\n",
        "# build final model\n",
        "model = Model(inputs, outputs)"
      ]
    },
    {
      "cell_type": "code",
      "execution_count": null,
      "metadata": {
        "colab": {
          "base_uri": "https://localhost:8080/",
          "height": 513
        },
        "id": "_OM-qz5H3Roc",
        "outputId": "bcbd419f-f9f9-40c1-8e9e-fb9b90ab4682"
      },
      "outputs": [],
      "source": [
        "model.summary()"
      ]
    },
    {
      "cell_type": "code",
      "execution_count": null,
      "metadata": {},
      "outputs": [],
      "source": [
        "model.compile(\n",
        "    optimizer=Adam(learning_rate=1e-4),\n",
        "    loss='binary_crossentropy',\n",
        "    metrics=['accuracy'])"
      ]
    },
    {
      "cell_type": "code",
      "execution_count": null,
      "metadata": {
        "colab": {
          "base_uri": "https://localhost:8080/"
        },
        "id": "rYoDIDdy3nKI",
        "outputId": "a2aa46a9-659c-449c-bbef-e29de22d2f6a"
      },
      "outputs": [],
      "source": [
        "early_stopping = EarlyStopping(monitor='val_loss', patience=5, restore_best_weights=True)\n",
        "\n",
        "history = model.fit(\n",
        "    train_generator,\n",
        "    epochs=30,  # Number of epochs\n",
        "    validation_data=val_generator,\n",
        "    verbose=2,\n",
        "    callbacks=[early_stopping]\n",
        ")\n"
      ]
    },
    {
      "cell_type": "code",
      "execution_count": null,
      "metadata": {},
      "outputs": [],
      "source": [
        "# Visualisasi Accuracy & Loss\n",
        "acc = history.history['accuracy']\n",
        "val_acc = history.history['val_accuracy']\n",
        "loss = history.history['loss']\n",
        "val_loss = history.history['val_loss']\n",
        "\n",
        "# Membuat dataframe\n",
        "df_history = pd.DataFrame({\n",
        "    'Epoch': range(1, len(acc) + 1),\n",
        "    'Accuracy': acc,\n",
        "    'Validation Accuracy': val_acc,\n",
        "    'Loss': loss,\n",
        "    'Validation Loss': val_loss\n",
        "})\n",
        "\n",
        "# Tampilkan DataFrame\n",
        "print(\"Tabel Akurasi dan Loss tiap Epoch:\")\n",
        "display(df_history)\n",
        "\n",
        "# Plot Accuracy\n",
        "plt.figure(figsize=(10, 4))\n",
        "plt.subplot(1, 2, 1)\n",
        "plt.plot(acc, label='Train Accuracy')\n",
        "plt.plot(val_acc, label='Validation Accuracy')\n",
        "plt.title('Training and Validation Accuracy')\n",
        "plt.ylabel('Value')\n",
        "plt.xlabel('Epoch')\n",
        "plt.legend(loc='lower right')\n",
        "\n",
        "# Plot Loss\n",
        "plt.subplot(1, 2, 2)\n",
        "plt.plot(loss, label='Training Loss')\n",
        "plt.plot(val_loss, label='Validation Loss')\n",
        "plt.title('Training and Validation Loss')\n",
        "plt.ylabel('Value')\n",
        "plt.xlabel('Epoch')\n",
        "plt.legend(loc='upper right')\n",
        "\n",
        "plt.tight_layout()\n",
        "plt.show()"
      ]
    },
    {
      "cell_type": "code",
      "execution_count": null,
      "metadata": {},
      "outputs": [],
      "source": [
        "# Evaluasi model dengan test set\n",
        "test_loss, test_acc = model.evaluate(test_generator)\n",
        "print(f\"Test Accuracy: {test_acc:.4f}, Test Loss: {test_loss:.4f}\")"
      ]
    },
    {
      "cell_type": "code",
      "execution_count": null,
      "metadata": {},
      "outputs": [],
      "source": [
        "from sklearn.metrics import classification_report\n",
        "\n",
        "class_labels = ['not_smoking', 'smoking']\n",
        "\n",
        "# Ambil ground truth label dari test_generator\n",
        "test_generator.reset()\n",
        "Y_test = test_generator.classes  # Label asli\n",
        "\n",
        "# Prediksi probabilitas\n",
        "pred_prob = model.predict(test_generator, verbose=1)\n",
        "Y_pred = (pred_prob > 0.5).astype(\"int32\")\n",
        "\n",
        "# Classification Report\n",
        "print(\"Classification Report:\")\n",
        "print(classification_report(Y_test, Y_pred, target_names=class_labels))\n"
      ]
    },
    {
      "cell_type": "code",
      "execution_count": null,
      "metadata": {},
      "outputs": [],
      "source": [
        "# save model\n",
        "model.save('mobilenetv2_binary_classifier8.h5')\n",
        "model.save('mobilenetv2_binary_classifier8.keras')"
      ]
    },
    {
      "cell_type": "code",
      "execution_count": null,
      "metadata": {},
      "outputs": [],
      "source": [
        "import os\n",
        "import pandas as pd\n",
        "import numpy as np\n",
        "import matplotlib.pyplot as plt\n",
        "from tensorflow.keras.models import load_model\n",
        "from tensorflow.keras.preprocessing import image\n",
        "\n",
        "# Path ke model yang disimpan\n",
        "model_path = 'mobilenetv2_binary_classifier8.keras'\n",
        "\n",
        "# Path ke folder gambar baru\n",
        "image_folder = 'test_images'\n",
        "\n",
        "# Parameter, sesuaikan dengan ukuran saat training \n",
        "IMG_SIZE = 224\n",
        "\n",
        "# load model\n",
        "model = load_model(model_path)\n",
        "\n",
        "# list semua gambar di folder\n",
        "img_files = [f for f in os.listdir(image_folder) if f.lower().endswith(('.png', '.jpg', '.jpeg'))]\n",
        "\n",
        "# Label mapping (sesuaikan dengan urutan label saat training dan label class)\n",
        "class_labels = ['not_smoking', 'smoking'] \n",
        "\n",
        "# Prediksi setiap gambar\n",
        "for img_file in img_files:\n",
        "    img_path = os.path.join(image_folder, img_file)\n",
        "    \n",
        "    # Load dan preprocessing gambar\n",
        "    img = image.load_img(img_path, target_size=(IMG_SIZE, IMG_SIZE))\n",
        "    img_array = image.img_to_array(img)\n",
        "    img_array = img_array / 255.0\n",
        "    img_array = np.expand_dims(img_array, axis=0)\n",
        "\n",
        "    # Prediksi\n",
        "    prediction = model.predict(img_array, verbose=0)\n",
        "    predicted_class = int(round(prediction[0][0]))\n",
        "    predicted_label = class_labels[predicted_class]\n",
        "    confidence = prediction[0][0] if predicted_class == 1 else 1 - prediction[0][0]\n",
        "\n",
        "    # Tampilkan hasil\n",
        "    print(f\"Gambar: {img_file} | Prediksi: {predicted_label} | Confidence: {confidence:.4f}\")\n",
        "\n",
        "    # Tampilkan gambar, label dan confidence score\n",
        "    plt.figure()\n",
        "    plt.imshow(plt.imread(img_path))\n",
        "    plt.title(f\"{predicted_label} ({confidence:.2%})\")\n",
        "    plt.axis('off')\n",
        "    plt.show()"
      ]
    },
    {
      "cell_type": "code",
      "execution_count": null,
      "metadata": {},
      "outputs": [],
      "source": [
        "import os\n",
        "import pandas as pd\n",
        "import numpy as np\n",
        "import matplotlib.pyplot as plt\n",
        "from tensorflow.keras.models import load_model\n",
        "from tensorflow.keras.preprocessing import image\n",
        "\n",
        "# Path ke model yang disimpan\n",
        "model_path = 'mobilenetv2_binary_classifier8.h5'\n",
        "\n",
        "# Path ke folder gambar baru\n",
        "image_folder = 'test_images'\n",
        "\n",
        "# Parameter, sesuaikan dengan ukuran saat training \n",
        "IMG_SIZE = 224\n",
        "\n",
        "# load model\n",
        "model = load_model(model_path)\n",
        "\n",
        "# list semua gambar di folder\n",
        "img_files = [f for f in os.listdir(image_folder) if f.lower().endswith(('.png', '.jpg', '.jpeg'))]\n",
        "\n",
        "# Label mapping (sesuaikan dengan urutan label saat training dan label class)\n",
        "class_labels = ['not_smoking', 'smoking'] \n",
        "\n",
        "# Prediksi setiap gambar\n",
        "for img_file in img_files:\n",
        "    img_path = os.path.join(image_folder, img_file)\n",
        "    \n",
        "    # Load dan preprocessing gambar\n",
        "    img = image.load_img(img_path, target_size=(IMG_SIZE, IMG_SIZE))\n",
        "    img_array = image.img_to_array(img)\n",
        "    img_array = img_array / 255.0\n",
        "    img_array = np.expand_dims(img_array, axis=0)\n",
        "\n",
        "    # Prediksi\n",
        "    prediction = model.predict(img_array, verbose=0)\n",
        "    predicted_class = int(round(prediction[0][0]))\n",
        "    predicted_label = class_labels[predicted_class]\n",
        "    confidence = prediction[0][0] if predicted_class == 1 else 1 - prediction[0][0]\n",
        "\n",
        "    # Tampilkan hasil\n",
        "    print(f\"Gambar: {img_file} | Prediksi: {predicted_label} | Confidence: {confidence:.4f}\")\n",
        "\n",
        "    # Tampilkan gambar, label dan confidence score\n",
        "    plt.figure()\n",
        "    plt.imshow(plt.imread(img_path))\n",
        "    plt.title(f\"{predicted_label} ({confidence:.2%})\")\n",
        "    plt.axis('off')\n",
        "    plt.show()"
      ]
    }
  ],
  "metadata": {
    "colab": {
      "provenance": []
    },
    "kernelspec": {
      "display_name": "v_smoking_detection",
      "language": "python",
      "name": "python3"
    },
    "language_info": {
      "codemirror_mode": {
        "name": "ipython",
        "version": 3
      },
      "file_extension": ".py",
      "mimetype": "text/x-python",
      "name": "python",
      "nbconvert_exporter": "python",
      "pygments_lexer": "ipython3",
      "version": "3.11.9"
    }
  },
  "nbformat": 4,
  "nbformat_minor": 0
}
